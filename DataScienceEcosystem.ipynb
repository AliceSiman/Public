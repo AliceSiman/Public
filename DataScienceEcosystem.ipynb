{
 "cells": [
  {
   "cell_type": "markdown",
   "id": "ba0fb815",
   "metadata": {},
   "source": [
    "\n",
    "# Data Science Tools and Ecosystem\n"
   ]
  },
  {
   "cell_type": "markdown",
   "id": "718e4b1c",
   "metadata": {},
   "source": [
    "On this notebook, Data Science Tools and Ecosystem are summarized"
   ]
  },
  {
   "cell_type": "markdown",
   "id": "ed87032f",
   "metadata": {},
   "source": [
    "Some of the commonly used libraries used by Data Scientists include:\n",
    "- Python\n",
    "- R\n",
    "- Julia\n",
    "- SQL\n",
    "- SAS\n",
    "- Scala\n",
    "- Matlab\n",
    "- Java\n",
    "- Matlab\n",
    "- C++"
   ]
  },
  {
   "cell_type": "markdown",
   "id": "04465ec7",
   "metadata": {},
   "source": [
    "Some of the commonly used libraries used by Data Scientists include:\n",
    "1. NumPy\n",
    "2. Pandas\n",
    "3. Scikit-learn\n",
    "4. TensorFlow\n",
    "5. Keras\n",
    "6. Matplotlib"
   ]
  },
  {
   "cell_type": "markdown",
   "id": "848267e0",
   "metadata": {},
   "source": [
    "| Data Science Tools |\n",
    "| ----------------- |\n",
    "| Jupyter Notebook  |\n",
    "| RStudio           |\n",
    "| PyCharm           |\n",
    "| Spyder            |\n",
    "| Atom              |\n",
    "| Visual Studio Code|"
   ]
  },
  {
   "cell_type": "markdown",
   "id": "5e4b3763",
   "metadata": {},
   "source": [
    "### Below are a few examples of evaluating arithmetic expressions in Python\n",
    "\n",
    "#### Addition\n",
    "result1 = 51 + 3\n",
    "print(result1)  # Output: 8\n",
    "\n",
    "#### Subtraction\n",
    "result2 = 18 - 2\n",
    "print(result2)  # Output: 8\n",
    "\n",
    "#### Multiplication\n",
    "result3 = 8 * 8\n",
    "print(result3)  # Output: 24\n",
    "\n",
    "#### Division\n",
    "result4 = 150 / 3\n",
    "print(result4)  # Output: 5.0\n",
    "\n",
    "#### Exponentiation\n",
    "result5 = 16 ** 7\n",
    "print(result5)  # Output: 16\n",
    "\n",
    "#### Modulo (Remainder)\n",
    "result6 = 67 % 8\n",
    "print(result6)  # Output: 2"
   ]
  },
  {
   "cell_type": "code",
   "execution_count": 3,
   "id": "4832a4c6",
   "metadata": {},
   "outputs": [
    {
     "data": {
      "text/plain": [
       "17"
      ]
     },
     "execution_count": 3,
     "metadata": {},
     "output_type": "execute_result"
    }
   ],
   "source": [
    "# This is a simple arithmetic expression to multiply then add integers.\n",
    "result = (3 * 4) + 5\n",
    "result\n"
   ]
  },
  {
   "cell_type": "code",
   "execution_count": 4,
   "id": "2ac94c1e",
   "metadata": {},
   "outputs": [
    {
     "data": {
      "text/plain": [
       "3.3333333333333335"
      ]
     },
     "execution_count": 4,
     "metadata": {},
     "output_type": "execute_result"
    }
   ],
   "source": [
    "# This will convert 200 minutes to hours by dividing by 60.\n",
    "minutes = 200\n",
    "hours = minutes / 60\n",
    "hours"
   ]
  },
  {
   "cell_type": "markdown",
   "id": "48fa7676",
   "metadata": {},
   "source": [
    "**Objectives:**\n",
    "\n",
    "- List popular languages for Data Science.\n",
    "- Understand commonly used libraries in Data Science.\n",
    "- Evaluate arithmetic expressions in Python.\n",
    "- Convert minutes to hours using Python.\n",
    "- Gain familiarity with Markdown cells and their usage."
   ]
  },
  {
   "cell_type": "markdown",
   "id": "6ec0edaa",
   "metadata": {},
   "source": [
    "## Author\n",
    "\n",
    "Alice Siman\n"
   ]
  }
 ],
 "metadata": {
  "kernelspec": {
   "display_name": "Python 3 (ipykernel)",
   "language": "python",
   "name": "python3"
  },
  "language_info": {
   "codemirror_mode": {
    "name": "ipython",
    "version": 3
   },
   "file_extension": ".py",
   "mimetype": "text/x-python",
   "name": "python",
   "nbconvert_exporter": "python",
   "pygments_lexer": "ipython3",
   "version": "3.10.9"
  }
 },
 "nbformat": 4,
 "nbformat_minor": 5
}
